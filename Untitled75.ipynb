{
  "nbformat": 4,
  "nbformat_minor": 0,
  "metadata": {
    "colab": {
      "provenance": []
    },
    "kernelspec": {
      "name": "python3",
      "display_name": "Python 3"
    },
    "language_info": {
      "name": "python"
    }
  },
  "cells": [
    {
      "cell_type": "code",
      "execution_count": null,
      "metadata": {
        "id": "-0QtivV4tlym"
      },
      "outputs": [],
      "source": [
        "import cv2\n",
        "import numpy as np\n",
        "\n",
        "def region_of_interest(img, vertices):\n",
        "    mask = np.zeros_like(img)\n",
        "    cv2.fillPoly(mask, vertices, 255)\n",
        "    return cv2.bitwise_and(img, mask)\n",
        "\n",
        "def draw_lines(img, lines):\n",
        "    if lines is None:\n",
        "        return img\n",
        "    img_copy = np.copy(img)\n",
        "    line_img = np.zeros((img.shape[0], img.shape[1], 3), dtype=np.uint8)\n",
        "    for line in lines:\n",
        "        for x1, y1, x2, y2 in line:\n",
        "            cv2.line(line_img, (x1, y1), (x2, y2), (255, 0, 0), 10)\n",
        "    return cv2.addWeighted(img_copy, 0.8, line_img, 1.0, 0.0)\n",
        "\n",
        "def process_frame(frame):\n",
        "    gray = cv2.cvtColor(frame, cv2.COLOR_BGR2GRAY)\n",
        "    blur = cv2.GaussianBlur(gray, (5, 5), 0)\n",
        "    edges = cv2.Canny(blur, 50, 150)\n",
        "    height = frame.shape[0]\n",
        "    polygons = np.array([[(200, height), (1100, height), (550, 250)]])\n",
        "    masked_edges = region_of_interest(edges, polygons)\n",
        "    lines = cv2.HoughLinesP(masked_edges, 1, np.pi / 180, 50, minLineLength=40, maxLineGap=5)\n",
        "    return draw_lines(frame, lines)\n",
        "\n",
        "def main():\n",
        "    cap = cv2.VideoCapture(\"road_video.mp4\")\n",
        "    while cap.isOpened():\n",
        "        ret, frame = cap.read()\n",
        "        if not ret:\n",
        "            break\n",
        "        lane_frame = process_frame(frame)\n",
        "        cv2.imshow(\"Road Lane Detection\", lane_frame)\n",
        "        if cv2.waitKey(1) & 0xFF == ord('q'):\n",
        "            break\n",
        "    cap.release()\n",
        "    cv2.destroyAllWindows()\n",
        "\n",
        "if __name__ == \"__main__\":\n",
        "    main()\n"
      ]
    }
  ]
}